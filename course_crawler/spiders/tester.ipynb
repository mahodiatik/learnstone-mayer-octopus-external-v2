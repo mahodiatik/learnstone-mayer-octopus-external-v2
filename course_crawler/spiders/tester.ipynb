{
 "cells": [
  {
   "cell_type": "code",
   "execution_count": 1,
   "metadata": {},
   "outputs": [],
   "source": [
    "from datetime import datetime\n",
    "import json\n",
    "import os\n",
    "import re\n",
    "from pathlib import Path\n",
    "from typing import Dict, List\n",
    "from urllib.parse import parse_qs\n",
    "from bs4 import BeautifulSoup, Tag\n",
    "import scrapy\n",
    "from scrapy import signals\n",
    "from scrapy.crawler import CrawlerProcess\n",
    "from scrapy.utils.project import get_project_settings\n",
    "from scrapy.http import HtmlResponse\n",
    "from scrapy_playwright.page import PageMethod\n",
    "from playwright.sync_api import sync_playwright, Playwright\n",
    "import requests\n",
    "import asyncio\n",
    "from functional import seq\n",
    "from typing import Optional\n",
    "from playwright.async_api import async_playwright, Playwright\n"
   ]
  },
  {
   "cell_type": "code",
   "execution_count": 13,
   "metadata": {},
   "outputs": [
    {
     "name": "stdout",
     "output_type": "stream",
     "text": [
      "['10 March 2024', '26 July 2024', '26 August 2024']\n"
     ]
    }
   ],
   "source": [
    "import requests\n",
    "\n",
    "cookies = {\n",
    "    'OptanonAlertBoxClosed': '2024-03-28T08:51:00.450Z',\n",
    "    '_gid': 'GA1.3.509480863.1711833552',\n",
    "    '_fbp': 'fb.2.1711902939866.201974845',\n",
    "    '__hs_cookie_cat_pref': '1:true_2:true_3:true',\n",
    "    'hubspotutk': '338f7eef2923d6365b019b9516e5b2ec',\n",
    "    '__hssrc': '1',\n",
    "    '_gcl_au': '1.1.1626541155.1711902948',\n",
    "    '_hjSessionUser_3882840': 'eyJpZCI6IjNjZDAxM2Y3LWU1YjEtNTBlZC1hZjUzLWI4YTFmODJiMDk3NiIsImNyZWF0ZWQiOjE3MTE5MDI5NDExNzYsImV4aXN0aW5nIjp0cnVlfQ==',\n",
    "    '__hstc': '102787167.338f7eef2923d6365b019b9516e5b2ec.1711902945790.1711914310426.1711924218847.3',\n",
    "    '_ga_2B2LNW4G7M': 'GS1.1.1711947718.6.0.1711947718.0.0.0',\n",
    "    '_ga_MB7LPD0MRQ': 'GS1.1.1711950710.7.1.1711952107.0.0.0',\n",
    "    '_ga': 'GA1.3.1650481729.1711615941',\n",
    "    '_gat_gtag_UA_228896_1': '1',\n",
    "    'OptanonConsent': 'isGpcEnabled=0&datestamp=Mon+Apr+01+2024+13%3A51%3A53+GMT%2B0600+(Bangladesh+Standard+Time)&version=202402.1.0&browserGpcFlag=0&isIABGlobal=false&consentId=1aec5d0b-87c7-45e8-8e05-b61c16202a81&interactionCount=1&isAnonUser=1&landingPath=NotLandingPage&groups=C0001%3A1%2CC0002%3A1%2CC0003%3A1%2CC0004%3A1&hosts=H105%3A1%2CH148%3A1%2CH103%3A1%2CH130%3A1%2CH24%3A1%2CH104%3A1%2CH1%3A1%2CH201%3A1%2CH179%3A1%2CH19%3A1%2CH20%3A1%2CH144%3A1%2CH181%3A1%2CH117%3A1%2CH33%3A1%2CH48%3A1%2CH195%3A1%2CH9%3A1%2CH11%3A1%2CH106%3A1%2CH204%3A1%2CH57%3A1%2CH58%3A1%2CH59%3A1%2CH202%3A1%2CH21%3A1%2CH114%3A1%2CH115%3A1%2CH116%3A1%2CH23%3A1%2CH149%3A1%2CH173%3A1%2CH203%3A1%2CH150%3A1%2CH185%3A1%2CH126%3A1%2CH161%3A1%2CH127%3A1%2CH156%3A1%2CH128%3A1%2CH140%3A1%2CH198%3A1%2CH180%3A1%2CH62%3A1%2CH200%3A1%2CH187%3A1%2CH25%3A1%2CH26%3A1&genVendors=&geolocation=BD%3BC&AwaitingReconsent=false',\n",
    "}\n",
    "\n",
    "headers = {\n",
    "    'accept': '*/*',\n",
    "    'accept-language': 'en-US,en;q=0.9,bn;q=0.8',\n",
    "    'accesstoken': 'JjV9NgvYm8BQgTNx2AtThsRBeK5qZxArDnRc2SKrzYWzvsS6',\n",
    "    # 'cookie': 'OptanonAlertBoxClosed=2024-03-28T08:51:00.450Z; _gid=GA1.3.509480863.1711833552; _fbp=fb.2.1711902939866.201974845; __hs_cookie_cat_pref=1:true_2:true_3:true; hubspotutk=338f7eef2923d6365b019b9516e5b2ec; __hssrc=1; _gcl_au=1.1.1626541155.1711902948; _hjSessionUser_3882840=eyJpZCI6IjNjZDAxM2Y3LWU1YjEtNTBlZC1hZjUzLWI4YTFmODJiMDk3NiIsImNyZWF0ZWQiOjE3MTE5MDI5NDExNzYsImV4aXN0aW5nIjp0cnVlfQ==; __hstc=102787167.338f7eef2923d6365b019b9516e5b2ec.1711902945790.1711914310426.1711924218847.3; _ga_2B2LNW4G7M=GS1.1.1711947718.6.0.1711947718.0.0.0; _ga_MB7LPD0MRQ=GS1.1.1711950710.7.1.1711952107.0.0.0; _ga=GA1.3.1650481729.1711615941; _gat_gtag_UA_228896_1=1; OptanonConsent=isGpcEnabled=0&datestamp=Mon+Apr+01+2024+13%3A51%3A53+GMT%2B0600+(Bangladesh+Standard+Time)&version=202402.1.0&browserGpcFlag=0&isIABGlobal=false&consentId=1aec5d0b-87c7-45e8-8e05-b61c16202a81&interactionCount=1&isAnonUser=1&landingPath=NotLandingPage&groups=C0001%3A1%2CC0002%3A1%2CC0003%3A1%2CC0004%3A1&hosts=H105%3A1%2CH148%3A1%2CH103%3A1%2CH130%3A1%2CH24%3A1%2CH104%3A1%2CH1%3A1%2CH201%3A1%2CH179%3A1%2CH19%3A1%2CH20%3A1%2CH144%3A1%2CH181%3A1%2CH117%3A1%2CH33%3A1%2CH48%3A1%2CH195%3A1%2CH9%3A1%2CH11%3A1%2CH106%3A1%2CH204%3A1%2CH57%3A1%2CH58%3A1%2CH59%3A1%2CH202%3A1%2CH21%3A1%2CH114%3A1%2CH115%3A1%2CH116%3A1%2CH23%3A1%2CH149%3A1%2CH173%3A1%2CH203%3A1%2CH150%3A1%2CH185%3A1%2CH126%3A1%2CH161%3A1%2CH127%3A1%2CH156%3A1%2CH128%3A1%2CH140%3A1%2CH198%3A1%2CH180%3A1%2CH62%3A1%2CH200%3A1%2CH187%3A1%2CH25%3A1%2CH26%3A1&genVendors=&geolocation=BD%3BC&AwaitingReconsent=false',\n",
    "    'dnt': '1',\n",
    "    'referer': 'https://www.kcl.ac.uk/study/postgraduate-taught/courses/applied-neuroscience-msc',\n",
    "    'sec-ch-ua': '\"Google Chrome\";v=\"123\", \"Not:A-Brand\";v=\"8\", \"Chromium\";v=\"123\"',\n",
    "    'sec-ch-ua-mobile': '?0',\n",
    "    'sec-ch-ua-platform': '\"Linux\"',\n",
    "    'sec-fetch-dest': 'empty',\n",
    "    'sec-fetch-mode': 'cors',\n",
    "    'sec-fetch-site': 'same-origin',\n",
    "    'user-agent': 'Mozilla/5.0 (X11; Linux x86_64) AppleWebKit/537.36 (KHTML, like Gecko) Chrome/123.0.0.0 Safari/537.36',\n",
    "}\n",
    "\n",
    "params = {\n",
    "    'linkDepth': '1',\n",
    "}\n",
    "\n",
    "response = requests.get(\n",
    "    'https://www.kcl.ac.uk/api/delivery/projects/website/entries/72e8ecb1-123e-4621-bfef-0cbf249eb40e',\n",
    "    params=params,\n",
    "    cookies=cookies,\n",
    "    headers=headers,\n",
    ")\n",
    "data=response.json()\n",
    "with open('data1.json', 'w') as f:\n",
    "    json.dump(data, f)\n",
    "text=data['applicationClosingDateGuidanceDefault']\n",
    "date_pattern = re.compile(r'\\d{1,2} \\w+ \\d{4}')\n",
    "dates = date_pattern.findall(text)\n",
    "print(dates)"
   ]
  },
  {
   "cell_type": "code",
   "execution_count": 177,
   "metadata": {},
   "outputs": [],
   "source": [
    "response= requests.get('https://www.kcl.ac.uk/study/postgraduate-taught/courses/biomedical-and-molecular-sciences-research-msc-mres')\n",
    "# response= requests.get('https://www.sheffield.ac.uk/postgraduate/taught/courses/2024/health-and-clinical-research-delivery-msc-pg-certificate-pg-diploma')\n",
    "soup= BeautifulSoup(response.content, 'html.parser')"
   ]
  },
  {
   "cell_type": "code",
   "execution_count": 178,
   "metadata": {},
   "outputs": [],
   "source": [
    "script = seq(soup.select('script')).find(lambda x: 'window.REDUX_DATA' in str(x))\n",
    "json_str = re.match(r'.*REDUX_DATA\\s\\=\\s(.*)$', script.text).group(1)\n",
    "json_str = json_str.replace(':undefined', \":null\")\n",
    "\n",
    "json_data = json.loads(json_str)\n",
    "with open('data.json', 'w') as f:\n",
    "    json.dump(json_data, f)"
   ]
  },
  {
   "cell_type": "code",
   "execution_count": 179,
   "metadata": {},
   "outputs": [
    {
     "name": "stdout",
     "output_type": "stream",
     "text": [
      "[]\n"
     ]
    }
   ],
   "source": [
    "try:\n",
    "    # TODO: assign application dates to start dates where possible\n",
    "    try:\n",
    "        application_dates_section = json_data['routing']['entry']['applicationClosingDateInfoOverride']\n",
    "        application_dates = re.findall(r'(\\d+ \\w+ \\d+) \\(23:59 UK time\\)', application_dates_section)\n",
    "    except:\n",
    "        application_dates = []\n",
    "    text= soup.select(\"h4\")\n",
    "    for i in text:\n",
    "        if(i.text ==\"Application closing date guidance\"):\n",
    "            data= i.find_next(\"div\").text\n",
    "            try:\n",
    "                date_pattern = r'\\b(?:\\d{1,2}(?:st|nd|rd|th)?(?:\\s\\w+)? \\w+ \\d{4})\\b'\n",
    "                matches = re.findall(date_pattern, data)\n",
    "                for match in matches:\n",
    "                    application_dates.append(match)\n",
    "            except:\n",
    "                application_dates = []\n",
    "except (AttributeError, TypeError):\n",
    "    application_dates=[]\n",
    "print(application_dates)"
   ]
  },
  {
   "cell_type": "code",
   "execution_count": 180,
   "metadata": {},
   "outputs": [],
   "source": [
    "data=\"10 March 2022 (23:59 UK time)\"\n",
    "date_pattern = r'\\b(?:\\d{1,2}(?:st|nd|rd|th) \\w+ \\d{4})\\b'\n",
    "matches = re.findall(date_pattern, data)\n",
    "for match in matches:\n",
    "    print(match)\n"
   ]
  },
  {
   "cell_type": "code",
   "execution_count": 108,
   "metadata": {},
   "outputs": [
    {
     "name": "stdout",
     "output_type": "stream",
     "text": [
      "[{'study_mode': 'Full-time', 'duration': 'MSc: Minimum two years, maximum six years. PG Dip: Minimum 16 months, maximum four years. PG Cert: Minimum eight months, maximum three years.', 'student_category': 'uk', 'fee': '£1,654'}, {'study_mode': 'Full-time', 'duration': 'MSc: Minimum two years, maximum six years. PG Dip: Minimum 16 months, maximum four years. PG Cert: Minimum eight months, maximum three years.', 'student_category': 'international', 'fee': '£1,654'}, {'study_mode': 'Part-time', 'duration': 'MSc: Minimum two years, maximum six years. PG Dip: Minimum 16 months, maximum four years. PG Cert: Minimum eight months, maximum three years.', 'student_category': 'uk', 'fee': '£1,654'}, {'study_mode': 'Part-Time', 'duration': 'MSc: Minimum two years, maximum six years. PG Dip: Minimum 16 months, maximum four years. PG Cert: Minimum eight months, maximum three years.', 'student_category': 'international', 'fee': '£1,654'}]\n"
     ]
    }
   ],
   "source": [
    "try:\n",
    "    mapper = {\n",
    "        'ukFee': ('uk', 'Full-time'),\n",
    "        'internationalFee': ('international', 'Full-time'),\n",
    "        'ukPartTimeFee': ('uk', 'Part-time'),\n",
    "        'internationalPartTimeFee': ('international', 'Part-Time')\n",
    "    }\n",
    "\n",
    "    # # TODO: extract durations\n",
    "    tuitions = []\n",
    "    try:\n",
    "        for k in seq(mapper.keys()).filter(lambda x: x in json_data['routing']['entry']):\n",
    "            fee = json_data['routing']['entry'][k]\n",
    "            duration = json_data['routing']['entry']['duration']\n",
    "            if not fee:\n",
    "                continue\n",
    "\n",
    "            fee = re.findall(r'£\\d+,\\d+', fee).pop(0)\n",
    "\n",
    "            student_category, study_mode = mapper[k]\n",
    "            tuitions.append({\n",
    "                'study_mode': study_mode,\n",
    "                'duration': duration,\n",
    "                'student_category': student_category,\n",
    "                'fee': fee\n",
    "            })\n",
    "    except:\n",
    "        pass\n",
    "    if(len(tuitions) == 0):\n",
    "        try:\n",
    "            for k in seq(mapper.keys()).filter(lambda x: x in json_data['routing']['entry']['relatedCourses'][0]['relatedCourses'][0]):\n",
    "                fee=json_data['routing'] ['entry'] ['relatedCourses'][0]['relatedCourses'][0][k]\n",
    "                duration= json_data['routing']['entry']['relatedCourses'][0]['relatedCourses'][0]['duration']\n",
    "\n",
    "                if not fee:\n",
    "                    continue\n",
    "\n",
    "                fee = re.findall(r'£\\d+,\\d+', fee).pop(0)\n",
    "        \n",
    "                student_category, study_mode = mapper[k]\n",
    "                tuitions.append({\n",
    "                    'study_mode': study_mode,\n",
    "                    'duration': duration,\n",
    "                    'student_category': student_category,\n",
    "                    'fee': fee\n",
    "                })\n",
    "        except:\n",
    "            pass\n",
    "    if(len(tuitions) == 0):\n",
    "        try:\n",
    "            for k in seq(mapper.keys()).filter(lambda x: x in json_data['routing']['entry']):\n",
    "                fee = json_data['routing']['entry'][\"furtherFeeInformation\"]\n",
    "                duration = json_data['routing']['entry']['duration']\n",
    "                if not fee:\n",
    "                    continue\n",
    "\n",
    "                fee = re.findall(r'£\\d+,\\d+', fee).pop(0)\n",
    "\n",
    "                student_category, study_mode = mapper[k]\n",
    "                tuitions.append({\n",
    "                    'study_mode': study_mode,\n",
    "                    'duration': duration,\n",
    "                    'student_category': student_category,\n",
    "                    'fee': fee\n",
    "                })\n",
    "        except:\n",
    "            pass\n",
    "    if(len(tuitions) == 0):\n",
    "        try:\n",
    "            for k in seq(mapper.keys()).filter(lambda x: x in json_data['routing']['entry']):\n",
    "                fee = json_data['routing']['entry'][\"onlineCourseFeeInformation\"]\n",
    "                duration = json_data['routing']['entry']['duration']\n",
    "                if not fee:\n",
    "                    continue\n",
    "\n",
    "                fee = re.findall(r'&pound;(\\d+,\\d+)', fee).pop(0)\n",
    "\n",
    "                student_category, study_mode = mapper[k]\n",
    "                tuitions.append({\n",
    "                    'study_mode': study_mode,\n",
    "                    'duration': duration,\n",
    "                    'student_category': student_category,\n",
    "                    'fee': f'£{fee}'\n",
    "\n",
    "\n",
    "                })\n",
    "        except:\n",
    "            pass\n",
    "        \n",
    "    \n",
    "except IndexError:\n",
    "    tuitions = []\n",
    "\n",
    "return tuitions\n"
   ]
  },
  {
   "cell_type": "markdown",
   "metadata": {},
   "source": [
    "Playwright Section\n",
    "---Use if needed---"
   ]
  },
  {
   "cell_type": "code",
   "execution_count": 22,
   "metadata": {},
   "outputs": [],
   "source": [
    "playwright = await async_playwright().start()\n",
    "browser = await playwright.chromium.launch(headless = True)\n",
    "page = await browser.new_page()\n",
    "\n",
    "await page.goto(\"https://www.sheffield.ac.uk/postgraduate/taught/courses/2024/advanced-clinical-practice-gp-mmedsci\")\n",
    "content = await page.content()\n",
    "\n",
    "await browser.close()\n",
    "await playwright.stop()\n",
    "soup = BeautifulSoup(content, \"html.parser\")"
   ]
  },
  {
   "cell_type": "code",
   "execution_count": 11,
   "metadata": {},
   "outputs": [
    {
     "name": "stdout",
     "output_type": "stream",
     "text": [
      "['1 ', '2–3 ', '2/3 ']\n"
     ]
    }
   ],
   "source": [
    "text = \"1 year, full-time\\n2–3 years part-time\\n 2/3 years\"\n",
    "\n",
    "# Define the regex pattern to match the previous word before \"year\" or \"years\"\n",
    "pattern = r'(?<=\\b)\\S+\\s+(?=year|years)'\n",
    "\n",
    "# Search for the pattern in the text\n",
    "matches = re.findall(pattern, text)\n",
    "print(matches)"
   ]
  }
 ],
 "metadata": {
  "kernelspec": {
   "display_name": "myenv",
   "language": "python",
   "name": "python3"
  },
  "language_info": {
   "codemirror_mode": {
    "name": "ipython",
    "version": 3
   },
   "file_extension": ".py",
   "mimetype": "text/x-python",
   "name": "python",
   "nbconvert_exporter": "python",
   "pygments_lexer": "ipython3",
   "version": "3.10.12"
  }
 },
 "nbformat": 4,
 "nbformat_minor": 2
}
